{
 "cells": [
  {
   "cell_type": "code",
   "execution_count": 3,
   "metadata": {},
   "outputs": [],
   "source": [
    "import pandas as pd"
   ]
  },
  {
   "cell_type": "code",
   "execution_count": 4,
   "metadata": {},
   "outputs": [],
   "source": [
    "df = pd.read_csv(\"clean_data.csv\")"
   ]
  },
  {
   "cell_type": "code",
   "execution_count": 5,
   "metadata": {},
   "outputs": [
    {
     "data": {
      "text/html": [
       "<div>\n",
       "<style scoped>\n",
       "    .dataframe tbody tr th:only-of-type {\n",
       "        vertical-align: middle;\n",
       "    }\n",
       "\n",
       "    .dataframe tbody tr th {\n",
       "        vertical-align: top;\n",
       "    }\n",
       "\n",
       "    .dataframe thead th {\n",
       "        text-align: right;\n",
       "    }\n",
       "</style>\n",
       "<table border=\"1\" class=\"dataframe\">\n",
       "  <thead>\n",
       "    <tr style=\"text-align: right;\">\n",
       "      <th></th>\n",
       "      <th>Unnamed: 0</th>\n",
       "      <th>Unnamed: 0.1</th>\n",
       "      <th>track</th>\n",
       "      <th>artist</th>\n",
       "      <th>id</th>\n",
       "      <th>search term</th>\n",
       "      <th>danceability</th>\n",
       "      <th>energy</th>\n",
       "      <th>key</th>\n",
       "      <th>loudness</th>\n",
       "      <th>...</th>\n",
       "      <th>speechiness</th>\n",
       "      <th>acousticness</th>\n",
       "      <th>instrumentalness</th>\n",
       "      <th>liveness</th>\n",
       "      <th>valence</th>\n",
       "      <th>tempo</th>\n",
       "      <th>duration_ms</th>\n",
       "      <th>popularity</th>\n",
       "      <th>release date</th>\n",
       "      <th>artist popularity</th>\n",
       "    </tr>\n",
       "  </thead>\n",
       "  <tbody>\n",
       "    <tr>\n",
       "      <td>0</td>\n",
       "      <td>0</td>\n",
       "      <td>0</td>\n",
       "      <td>My Cousin Harris</td>\n",
       "      <td>Aziz Ansari</td>\n",
       "      <td>0ojSU3QoovuJxwVYk34opc</td>\n",
       "      <td>intimate</td>\n",
       "      <td>0.657</td>\n",
       "      <td>0.6220</td>\n",
       "      <td>3.0</td>\n",
       "      <td>-7.026</td>\n",
       "      <td>...</td>\n",
       "      <td>0.9440</td>\n",
       "      <td>0.8040</td>\n",
       "      <td>0.00000</td>\n",
       "      <td>0.917</td>\n",
       "      <td>0.3950</td>\n",
       "      <td>66.521</td>\n",
       "      <td>96053.0</td>\n",
       "      <td>35</td>\n",
       "      <td>3966.0</td>\n",
       "      <td>49.000000</td>\n",
       "    </tr>\n",
       "    <tr>\n",
       "      <td>1</td>\n",
       "      <td>1</td>\n",
       "      <td>1</td>\n",
       "      <td>Before She Does - Live At Target Center, Minne...</td>\n",
       "      <td>Eric Church</td>\n",
       "      <td>42ToYHW2koZnAqgDoEQ314</td>\n",
       "      <td>minneapolis</td>\n",
       "      <td>0.504</td>\n",
       "      <td>0.7770</td>\n",
       "      <td>0.0</td>\n",
       "      <td>-8.583</td>\n",
       "      <td>...</td>\n",
       "      <td>0.0370</td>\n",
       "      <td>0.0648</td>\n",
       "      <td>0.00001</td>\n",
       "      <td>0.803</td>\n",
       "      <td>0.3560</td>\n",
       "      <td>104.023</td>\n",
       "      <td>209277.0</td>\n",
       "      <td>27</td>\n",
       "      <td>553.0</td>\n",
       "      <td>77.000000</td>\n",
       "    </tr>\n",
       "    <tr>\n",
       "      <td>2</td>\n",
       "      <td>2</td>\n",
       "      <td>2</td>\n",
       "      <td>Muerto en Choroni</td>\n",
       "      <td>Selected Music</td>\n",
       "      <td>1nfbOAPwnMRBlE0rUNGg43</td>\n",
       "      <td>selected</td>\n",
       "      <td>0.726</td>\n",
       "      <td>0.9150</td>\n",
       "      <td>4.0</td>\n",
       "      <td>-5.407</td>\n",
       "      <td>...</td>\n",
       "      <td>0.2300</td>\n",
       "      <td>0.0351</td>\n",
       "      <td>0.00000</td>\n",
       "      <td>0.283</td>\n",
       "      <td>0.8370</td>\n",
       "      <td>127.994</td>\n",
       "      <td>246826.0</td>\n",
       "      <td>20</td>\n",
       "      <td>91.0</td>\n",
       "      <td>41.500000</td>\n",
       "    </tr>\n",
       "    <tr>\n",
       "      <td>3</td>\n",
       "      <td>3</td>\n",
       "      <td>3</td>\n",
       "      <td>Unwind in the Tropics</td>\n",
       "      <td>Relaxmycat</td>\n",
       "      <td>4iuthceAzx9jJt5o08HwMb</td>\n",
       "      <td>resting</td>\n",
       "      <td>0.204</td>\n",
       "      <td>0.0423</td>\n",
       "      <td>6.0</td>\n",
       "      <td>-26.704</td>\n",
       "      <td>...</td>\n",
       "      <td>0.0517</td>\n",
       "      <td>0.9930</td>\n",
       "      <td>0.82700</td>\n",
       "      <td>0.112</td>\n",
       "      <td>0.0345</td>\n",
       "      <td>89.789</td>\n",
       "      <td>112000.0</td>\n",
       "      <td>0</td>\n",
       "      <td>9.0</td>\n",
       "      <td>37.666667</td>\n",
       "    </tr>\n",
       "    <tr>\n",
       "      <td>4</td>\n",
       "      <td>4</td>\n",
       "      <td>4</td>\n",
       "      <td>Waiver</td>\n",
       "      <td>Reki</td>\n",
       "      <td>7l1B4m3ujaWim9n3zMMhwa</td>\n",
       "      <td>waive</td>\n",
       "      <td>0.419</td>\n",
       "      <td>0.6690</td>\n",
       "      <td>0.0</td>\n",
       "      <td>-8.137</td>\n",
       "      <td>...</td>\n",
       "      <td>0.0377</td>\n",
       "      <td>0.5070</td>\n",
       "      <td>0.34800</td>\n",
       "      <td>0.115</td>\n",
       "      <td>0.0382</td>\n",
       "      <td>94.837</td>\n",
       "      <td>252682.0</td>\n",
       "      <td>4</td>\n",
       "      <td>3087.0</td>\n",
       "      <td>25.000000</td>\n",
       "    </tr>\n",
       "  </tbody>\n",
       "</table>\n",
       "<p>5 rows × 21 columns</p>\n",
       "</div>"
      ],
      "text/plain": [
       "   Unnamed: 0  Unnamed: 0.1  \\\n",
       "0           0             0   \n",
       "1           1             1   \n",
       "2           2             2   \n",
       "3           3             3   \n",
       "4           4             4   \n",
       "\n",
       "                                               track          artist  \\\n",
       "0                                   My Cousin Harris     Aziz Ansari   \n",
       "1  Before She Does - Live At Target Center, Minne...     Eric Church   \n",
       "2                                  Muerto en Choroni  Selected Music   \n",
       "3                              Unwind in the Tropics      Relaxmycat   \n",
       "4                                             Waiver            Reki   \n",
       "\n",
       "                       id  search term  danceability  energy  key  loudness  \\\n",
       "0  0ojSU3QoovuJxwVYk34opc     intimate         0.657  0.6220  3.0    -7.026   \n",
       "1  42ToYHW2koZnAqgDoEQ314  minneapolis         0.504  0.7770  0.0    -8.583   \n",
       "2  1nfbOAPwnMRBlE0rUNGg43     selected         0.726  0.9150  4.0    -5.407   \n",
       "3  4iuthceAzx9jJt5o08HwMb      resting         0.204  0.0423  6.0   -26.704   \n",
       "4  7l1B4m3ujaWim9n3zMMhwa        waive         0.419  0.6690  0.0    -8.137   \n",
       "\n",
       "   ...  speechiness  acousticness  instrumentalness  liveness  valence  \\\n",
       "0  ...       0.9440        0.8040           0.00000     0.917   0.3950   \n",
       "1  ...       0.0370        0.0648           0.00001     0.803   0.3560   \n",
       "2  ...       0.2300        0.0351           0.00000     0.283   0.8370   \n",
       "3  ...       0.0517        0.9930           0.82700     0.112   0.0345   \n",
       "4  ...       0.0377        0.5070           0.34800     0.115   0.0382   \n",
       "\n",
       "     tempo  duration_ms  popularity  release date  artist popularity  \n",
       "0   66.521      96053.0          35        3966.0          49.000000  \n",
       "1  104.023     209277.0          27         553.0          77.000000  \n",
       "2  127.994     246826.0          20          91.0          41.500000  \n",
       "3   89.789     112000.0           0           9.0          37.666667  \n",
       "4   94.837     252682.0           4        3087.0          25.000000  \n",
       "\n",
       "[5 rows x 21 columns]"
      ]
     },
     "execution_count": 5,
     "metadata": {},
     "output_type": "execute_result"
    }
   ],
   "source": [
    "df.head()"
   ]
  },
  {
   "cell_type": "code",
   "execution_count": 24,
   "metadata": {},
   "outputs": [
    {
     "ename": "ValueError",
     "evalue": "Expected 2D array, got 1D array instead:\narray=[49.  77.  41.5 ... 28.  23.  57. ].\nReshape your data either using array.reshape(-1, 1) if your data has a single feature or array.reshape(1, -1) if it contains a single sample.",
     "output_type": "error",
     "traceback": [
      "\u001b[0;31m---------------------------------------------------------------------------\u001b[0m",
      "\u001b[0;31mValueError\u001b[0m                                Traceback (most recent call last)",
      "\u001b[0;32m<ipython-input-24-4b85638be4e3>\u001b[0m in \u001b[0;36m<module>\u001b[0;34m\u001b[0m\n\u001b[1;32m      4\u001b[0m \u001b[0mx\u001b[0m \u001b[0;34m=\u001b[0m \u001b[0mdf\u001b[0m\u001b[0;34m[\u001b[0m\u001b[0;34m\"artist popularity\"\u001b[0m\u001b[0;34m]\u001b[0m\u001b[0;31m#returns a numpy array\u001b[0m\u001b[0;34m\u001b[0m\u001b[0;34m\u001b[0m\u001b[0m\n\u001b[1;32m      5\u001b[0m \u001b[0mmin_max_scaler\u001b[0m \u001b[0;34m=\u001b[0m \u001b[0mpreprocessing\u001b[0m\u001b[0;34m.\u001b[0m\u001b[0mMinMaxScaler\u001b[0m\u001b[0;34m(\u001b[0m\u001b[0;34m)\u001b[0m\u001b[0;34m\u001b[0m\u001b[0;34m\u001b[0m\u001b[0m\n\u001b[0;32m----> 6\u001b[0;31m \u001b[0mx_scaled\u001b[0m \u001b[0;34m=\u001b[0m \u001b[0mmin_max_scaler\u001b[0m\u001b[0;34m.\u001b[0m\u001b[0mfit\u001b[0m\u001b[0;34m(\u001b[0m\u001b[0mx\u001b[0m\u001b[0;34m)\u001b[0m\u001b[0;34m\u001b[0m\u001b[0;34m\u001b[0m\u001b[0m\n\u001b[0m\u001b[1;32m      7\u001b[0m \u001b[0mdf\u001b[0m\u001b[0;34m[\u001b[0m\u001b[0;34m\"artist popularity\"\u001b[0m\u001b[0;34m]\u001b[0m \u001b[0;34m=\u001b[0m \u001b[0mpd\u001b[0m\u001b[0;34m.\u001b[0m\u001b[0mDataFrame\u001b[0m\u001b[0;34m(\u001b[0m\u001b[0mx_scaled\u001b[0m\u001b[0;34m)\u001b[0m\u001b[0;34m\u001b[0m\u001b[0;34m\u001b[0m\u001b[0m\n",
      "\u001b[0;32m~/opt/anaconda3/lib/python3.7/site-packages/sklearn/preprocessing/data.py\u001b[0m in \u001b[0;36mfit\u001b[0;34m(self, X, y)\u001b[0m\n\u001b[1;32m    323\u001b[0m         \u001b[0;31m# Reset internal state before fitting\u001b[0m\u001b[0;34m\u001b[0m\u001b[0;34m\u001b[0m\u001b[0;34m\u001b[0m\u001b[0m\n\u001b[1;32m    324\u001b[0m         \u001b[0mself\u001b[0m\u001b[0;34m.\u001b[0m\u001b[0m_reset\u001b[0m\u001b[0;34m(\u001b[0m\u001b[0;34m)\u001b[0m\u001b[0;34m\u001b[0m\u001b[0;34m\u001b[0m\u001b[0m\n\u001b[0;32m--> 325\u001b[0;31m         \u001b[0;32mreturn\u001b[0m \u001b[0mself\u001b[0m\u001b[0;34m.\u001b[0m\u001b[0mpartial_fit\u001b[0m\u001b[0;34m(\u001b[0m\u001b[0mX\u001b[0m\u001b[0;34m,\u001b[0m \u001b[0my\u001b[0m\u001b[0;34m)\u001b[0m\u001b[0;34m\u001b[0m\u001b[0;34m\u001b[0m\u001b[0m\n\u001b[0m\u001b[1;32m    326\u001b[0m \u001b[0;34m\u001b[0m\u001b[0m\n\u001b[1;32m    327\u001b[0m     \u001b[0;32mdef\u001b[0m \u001b[0mpartial_fit\u001b[0m\u001b[0;34m(\u001b[0m\u001b[0mself\u001b[0m\u001b[0;34m,\u001b[0m \u001b[0mX\u001b[0m\u001b[0;34m,\u001b[0m \u001b[0my\u001b[0m\u001b[0;34m=\u001b[0m\u001b[0;32mNone\u001b[0m\u001b[0;34m)\u001b[0m\u001b[0;34m:\u001b[0m\u001b[0;34m\u001b[0m\u001b[0;34m\u001b[0m\u001b[0m\n",
      "\u001b[0;32m~/opt/anaconda3/lib/python3.7/site-packages/sklearn/preprocessing/data.py\u001b[0m in \u001b[0;36mpartial_fit\u001b[0;34m(self, X, y)\u001b[0m\n\u001b[1;32m    351\u001b[0m         X = check_array(X, copy=self.copy,\n\u001b[1;32m    352\u001b[0m                         \u001b[0mestimator\u001b[0m\u001b[0;34m=\u001b[0m\u001b[0mself\u001b[0m\u001b[0;34m,\u001b[0m \u001b[0mdtype\u001b[0m\u001b[0;34m=\u001b[0m\u001b[0mFLOAT_DTYPES\u001b[0m\u001b[0;34m,\u001b[0m\u001b[0;34m\u001b[0m\u001b[0;34m\u001b[0m\u001b[0m\n\u001b[0;32m--> 353\u001b[0;31m                         force_all_finite=\"allow-nan\")\n\u001b[0m\u001b[1;32m    354\u001b[0m \u001b[0;34m\u001b[0m\u001b[0m\n\u001b[1;32m    355\u001b[0m         \u001b[0mdata_min\u001b[0m \u001b[0;34m=\u001b[0m \u001b[0mnp\u001b[0m\u001b[0;34m.\u001b[0m\u001b[0mnanmin\u001b[0m\u001b[0;34m(\u001b[0m\u001b[0mX\u001b[0m\u001b[0;34m,\u001b[0m \u001b[0maxis\u001b[0m\u001b[0;34m=\u001b[0m\u001b[0;36m0\u001b[0m\u001b[0;34m)\u001b[0m\u001b[0;34m\u001b[0m\u001b[0;34m\u001b[0m\u001b[0m\n",
      "\u001b[0;32m~/opt/anaconda3/lib/python3.7/site-packages/sklearn/utils/validation.py\u001b[0m in \u001b[0;36mcheck_array\u001b[0;34m(array, accept_sparse, accept_large_sparse, dtype, order, copy, force_all_finite, ensure_2d, allow_nd, ensure_min_samples, ensure_min_features, warn_on_dtype, estimator)\u001b[0m\n\u001b[1;32m    519\u001b[0m                     \u001b[0;34m\"Reshape your data either using array.reshape(-1, 1) if \"\u001b[0m\u001b[0;34m\u001b[0m\u001b[0;34m\u001b[0m\u001b[0m\n\u001b[1;32m    520\u001b[0m                     \u001b[0;34m\"your data has a single feature or array.reshape(1, -1) \"\u001b[0m\u001b[0;34m\u001b[0m\u001b[0;34m\u001b[0m\u001b[0m\n\u001b[0;32m--> 521\u001b[0;31m                     \"if it contains a single sample.\".format(array))\n\u001b[0m\u001b[1;32m    522\u001b[0m \u001b[0;34m\u001b[0m\u001b[0m\n\u001b[1;32m    523\u001b[0m         \u001b[0;31m# in the future np.flexible dtypes will be handled like object dtypes\u001b[0m\u001b[0;34m\u001b[0m\u001b[0;34m\u001b[0m\u001b[0;34m\u001b[0m\u001b[0m\n",
      "\u001b[0;31mValueError\u001b[0m: Expected 2D array, got 1D array instead:\narray=[49.  77.  41.5 ... 28.  23.  57. ].\nReshape your data either using array.reshape(-1, 1) if your data has a single feature or array.reshape(1, -1) if it contains a single sample."
     ]
    }
   ],
   "source": [
    "import pandas as pd\n",
    "from sklearn import preprocessing\n",
    "\n",
    "x = df[\"artist popularity\"]#returns a numpy array\n",
    "min_max_scaler = preprocessing.MinMaxScaler()\n",
    "x_scaled = min_max_scaler.fit_transform(x)\n",
    "df[\"artist popularity\"] = pd.DataFrame(x_scaled)"
   ]
  },
  {
   "cell_type": "code",
   "execution_count": 7,
   "metadata": {},
   "outputs": [],
   "source": [
    "# x = df[\"popularity\"]\n",
    "# df[\"popularity\"] = (x-x.mean())/x.std()"
   ]
  },
  {
   "cell_type": "code",
   "execution_count": 8,
   "metadata": {},
   "outputs": [],
   "source": [
    "# import seaborn as sns\n",
    "# import matplotlib.pyplot as plt\n",
    "# fig_dims = (100,100)\n",
    "# fig, ax = plt.subplots(5, 2, figsize=(30,30))"
   ]
  },
  {
   "cell_type": "code",
   "execution_count": 9,
   "metadata": {},
   "outputs": [],
   "source": [
    "\n",
    "\n",
    "# #produce the scatter plot\n",
    "# graph = sns.scatterplot(data = df.sample(100), x = \"danceability\", y = \"popularity\", size = \"artist popularity\", sizes = (100, 1000), hue = \"popularity\", ax =ax[0,1], legend=False)\n"
   ]
  },
  {
   "cell_type": "code",
   "execution_count": 10,
   "metadata": {},
   "outputs": [],
   "source": [
    "# features[6:]"
   ]
  },
  {
   "cell_type": "code",
   "execution_count": 11,
   "metadata": {},
   "outputs": [],
   "source": [
    "# from plotly.subplots import make_subplots\n",
    "# import plotly.graph_objects as go\n",
    "\n",
    "# # fig = make_subplots(rows=7, cols=2)\n",
    "\n",
    "# df_samp = df.sample(100)\n",
    "# features = df.columns[6:]\n",
    "# counter = 0\n",
    "# for row in range(1,8):\n",
    "#     fig, ax = plt.subplots(1,2)\n",
    "#     plt.scatter([1,2,3], [4,5,6])\n",
    "# #     for col in range(1,3):\n",
    "        \n",
    "# # #         fig.add_trace(\n",
    "# # #             go.Scatter(x=df_samp[features[counter]], y=df_samp[\"popularity\"], mode=\"markers\", name =features[counter]),\n",
    "# # #         row=row, col=col\n",
    "# # #         )\n",
    "# # #         counter+=1\n",
    "\n",
    "\n",
    "# # fig.add_trace(\n",
    "# #     go.Scatter(x=[20, 30, 40], y=[50, 60, 70]),\n",
    "# #     row=1, col=2\n",
    "# # )\n",
    "\n",
    "# # fig.update_layout(height=3000, width=1000\n",
    "# #                   , title_text=\"Side By Side Subplots\")\n",
    "# # fig.show()"
   ]
  },
  {
   "cell_type": "code",
   "execution_count": null,
   "metadata": {},
   "outputs": [],
   "source": []
  },
  {
   "cell_type": "code",
   "execution_count": null,
   "metadata": {},
   "outputs": [],
   "source": []
  },
  {
   "cell_type": "code",
   "execution_count": 12,
   "metadata": {},
   "outputs": [
    {
     "data": {
      "text/html": [
       "<div>\n",
       "<style scoped>\n",
       "    .dataframe tbody tr th:only-of-type {\n",
       "        vertical-align: middle;\n",
       "    }\n",
       "\n",
       "    .dataframe tbody tr th {\n",
       "        vertical-align: top;\n",
       "    }\n",
       "\n",
       "    .dataframe thead th {\n",
       "        text-align: right;\n",
       "    }\n",
       "</style>\n",
       "<table border=\"1\" class=\"dataframe\">\n",
       "  <thead>\n",
       "    <tr style=\"text-align: right;\">\n",
       "      <th></th>\n",
       "      <th>danceability</th>\n",
       "      <th>energy</th>\n",
       "      <th>key</th>\n",
       "      <th>loudness</th>\n",
       "      <th>mode</th>\n",
       "      <th>speechiness</th>\n",
       "      <th>acousticness</th>\n",
       "      <th>instrumentalness</th>\n",
       "      <th>liveness</th>\n",
       "      <th>valence</th>\n",
       "      <th>tempo</th>\n",
       "      <th>duration_ms</th>\n",
       "      <th>popularity</th>\n",
       "      <th>release date</th>\n",
       "      <th>artist popularity</th>\n",
       "    </tr>\n",
       "  </thead>\n",
       "  <tbody>\n",
       "    <tr>\n",
       "      <td>danceability</td>\n",
       "      <td>1.000000</td>\n",
       "      <td>0.191503</td>\n",
       "      <td>0.034859</td>\n",
       "      <td>0.335458</td>\n",
       "      <td>-0.053447</td>\n",
       "      <td>0.215534</td>\n",
       "      <td>-0.267318</td>\n",
       "      <td>-0.226423</td>\n",
       "      <td>-0.134976</td>\n",
       "      <td>0.502099</td>\n",
       "      <td>0.090255</td>\n",
       "      <td>-0.045257</td>\n",
       "      <td>0.133107</td>\n",
       "      <td>-0.055569</td>\n",
       "      <td>-0.006731</td>\n",
       "    </tr>\n",
       "    <tr>\n",
       "      <td>energy</td>\n",
       "      <td>0.191503</td>\n",
       "      <td>1.000000</td>\n",
       "      <td>0.052173</td>\n",
       "      <td>0.758635</td>\n",
       "      <td>-0.050894</td>\n",
       "      <td>-0.003112</td>\n",
       "      <td>-0.681679</td>\n",
       "      <td>-0.277874</td>\n",
       "      <td>0.203910</td>\n",
       "      <td>0.308288</td>\n",
       "      <td>0.249822</td>\n",
       "      <td>0.035511</td>\n",
       "      <td>0.103231</td>\n",
       "      <td>0.051769</td>\n",
       "      <td>0.039355</td>\n",
       "    </tr>\n",
       "    <tr>\n",
       "      <td>key</td>\n",
       "      <td>0.034859</td>\n",
       "      <td>0.052173</td>\n",
       "      <td>1.000000</td>\n",
       "      <td>0.053735</td>\n",
       "      <td>-0.187588</td>\n",
       "      <td>0.030521</td>\n",
       "      <td>-0.051292</td>\n",
       "      <td>-0.029011</td>\n",
       "      <td>0.016499</td>\n",
       "      <td>0.043703</td>\n",
       "      <td>0.020320</td>\n",
       "      <td>-0.008575</td>\n",
       "      <td>0.015636</td>\n",
       "      <td>0.009872</td>\n",
       "      <td>-0.001430</td>\n",
       "    </tr>\n",
       "    <tr>\n",
       "      <td>loudness</td>\n",
       "      <td>0.335458</td>\n",
       "      <td>0.758635</td>\n",
       "      <td>0.053735</td>\n",
       "      <td>1.000000</td>\n",
       "      <td>-0.026889</td>\n",
       "      <td>-0.034552</td>\n",
       "      <td>-0.555381</td>\n",
       "      <td>-0.464791</td>\n",
       "      <td>0.071018</td>\n",
       "      <td>0.342732</td>\n",
       "      <td>0.225713</td>\n",
       "      <td>0.028796</td>\n",
       "      <td>0.221336</td>\n",
       "      <td>0.077377</td>\n",
       "      <td>0.100992</td>\n",
       "    </tr>\n",
       "    <tr>\n",
       "      <td>mode</td>\n",
       "      <td>-0.053447</td>\n",
       "      <td>-0.050894</td>\n",
       "      <td>-0.187588</td>\n",
       "      <td>-0.026889</td>\n",
       "      <td>1.000000</td>\n",
       "      <td>-0.019151</td>\n",
       "      <td>0.052982</td>\n",
       "      <td>-0.027843</td>\n",
       "      <td>0.007438</td>\n",
       "      <td>0.004468</td>\n",
       "      <td>-0.004417</td>\n",
       "      <td>-0.000939</td>\n",
       "      <td>-0.017067</td>\n",
       "      <td>0.051520</td>\n",
       "      <td>0.004618</td>\n",
       "    </tr>\n",
       "    <tr>\n",
       "      <td>speechiness</td>\n",
       "      <td>0.215534</td>\n",
       "      <td>-0.003112</td>\n",
       "      <td>0.030521</td>\n",
       "      <td>-0.034552</td>\n",
       "      <td>-0.019151</td>\n",
       "      <td>1.000000</td>\n",
       "      <td>0.027945</td>\n",
       "      <td>-0.242770</td>\n",
       "      <td>0.172888</td>\n",
       "      <td>0.087182</td>\n",
       "      <td>-0.013663</td>\n",
       "      <td>-0.016583</td>\n",
       "      <td>-0.100492</td>\n",
       "      <td>-0.074630</td>\n",
       "      <td>-0.112638</td>\n",
       "    </tr>\n",
       "    <tr>\n",
       "      <td>acousticness</td>\n",
       "      <td>-0.267318</td>\n",
       "      <td>-0.681679</td>\n",
       "      <td>-0.051292</td>\n",
       "      <td>-0.555381</td>\n",
       "      <td>0.052982</td>\n",
       "      <td>0.027945</td>\n",
       "      <td>1.000000</td>\n",
       "      <td>0.218381</td>\n",
       "      <td>-0.052608</td>\n",
       "      <td>-0.208959</td>\n",
       "      <td>-0.211182</td>\n",
       "      <td>-0.035998</td>\n",
       "      <td>-0.113604</td>\n",
       "      <td>0.001851</td>\n",
       "      <td>-0.010408</td>\n",
       "    </tr>\n",
       "    <tr>\n",
       "      <td>instrumentalness</td>\n",
       "      <td>-0.226423</td>\n",
       "      <td>-0.277874</td>\n",
       "      <td>-0.029011</td>\n",
       "      <td>-0.464791</td>\n",
       "      <td>-0.027843</td>\n",
       "      <td>-0.242770</td>\n",
       "      <td>0.218381</td>\n",
       "      <td>1.000000</td>\n",
       "      <td>-0.112169</td>\n",
       "      <td>-0.285765</td>\n",
       "      <td>-0.069662</td>\n",
       "      <td>0.002840</td>\n",
       "      <td>-0.233451</td>\n",
       "      <td>-0.150880</td>\n",
       "      <td>-0.190725</td>\n",
       "    </tr>\n",
       "    <tr>\n",
       "      <td>liveness</td>\n",
       "      <td>-0.134976</td>\n",
       "      <td>0.203910</td>\n",
       "      <td>0.016499</td>\n",
       "      <td>0.071018</td>\n",
       "      <td>0.007438</td>\n",
       "      <td>0.172888</td>\n",
       "      <td>-0.052608</td>\n",
       "      <td>-0.112169</td>\n",
       "      <td>1.000000</td>\n",
       "      <td>-0.000906</td>\n",
       "      <td>-0.027031</td>\n",
       "      <td>0.013130</td>\n",
       "      <td>-0.032405</td>\n",
       "      <td>0.056271</td>\n",
       "      <td>0.048725</td>\n",
       "    </tr>\n",
       "    <tr>\n",
       "      <td>valence</td>\n",
       "      <td>0.502099</td>\n",
       "      <td>0.308288</td>\n",
       "      <td>0.043703</td>\n",
       "      <td>0.342732</td>\n",
       "      <td>0.004468</td>\n",
       "      <td>0.087182</td>\n",
       "      <td>-0.208959</td>\n",
       "      <td>-0.285765</td>\n",
       "      <td>-0.000906</td>\n",
       "      <td>1.000000</td>\n",
       "      <td>0.157876</td>\n",
       "      <td>-0.097651</td>\n",
       "      <td>0.103641</td>\n",
       "      <td>0.116984</td>\n",
       "      <td>0.038851</td>\n",
       "    </tr>\n",
       "    <tr>\n",
       "      <td>tempo</td>\n",
       "      <td>0.090255</td>\n",
       "      <td>0.249822</td>\n",
       "      <td>0.020320</td>\n",
       "      <td>0.225713</td>\n",
       "      <td>-0.004417</td>\n",
       "      <td>-0.013663</td>\n",
       "      <td>-0.211182</td>\n",
       "      <td>-0.069662</td>\n",
       "      <td>-0.027031</td>\n",
       "      <td>0.157876</td>\n",
       "      <td>1.000000</td>\n",
       "      <td>0.028837</td>\n",
       "      <td>0.041764</td>\n",
       "      <td>0.022473</td>\n",
       "      <td>0.003339</td>\n",
       "    </tr>\n",
       "    <tr>\n",
       "      <td>duration_ms</td>\n",
       "      <td>-0.045257</td>\n",
       "      <td>0.035511</td>\n",
       "      <td>-0.008575</td>\n",
       "      <td>0.028796</td>\n",
       "      <td>-0.000939</td>\n",
       "      <td>-0.016583</td>\n",
       "      <td>-0.035998</td>\n",
       "      <td>0.002840</td>\n",
       "      <td>0.013130</td>\n",
       "      <td>-0.097651</td>\n",
       "      <td>0.028837</td>\n",
       "      <td>1.000000</td>\n",
       "      <td>-0.041237</td>\n",
       "      <td>0.082704</td>\n",
       "      <td>-0.034327</td>\n",
       "    </tr>\n",
       "    <tr>\n",
       "      <td>popularity</td>\n",
       "      <td>0.133107</td>\n",
       "      <td>0.103231</td>\n",
       "      <td>0.015636</td>\n",
       "      <td>0.221336</td>\n",
       "      <td>-0.017067</td>\n",
       "      <td>-0.100492</td>\n",
       "      <td>-0.113604</td>\n",
       "      <td>-0.233451</td>\n",
       "      <td>-0.032405</td>\n",
       "      <td>0.103641</td>\n",
       "      <td>0.041764</td>\n",
       "      <td>-0.041237</td>\n",
       "      <td>1.000000</td>\n",
       "      <td>0.090760</td>\n",
       "      <td>0.732455</td>\n",
       "    </tr>\n",
       "    <tr>\n",
       "      <td>release date</td>\n",
       "      <td>-0.055569</td>\n",
       "      <td>0.051769</td>\n",
       "      <td>0.009872</td>\n",
       "      <td>0.077377</td>\n",
       "      <td>0.051520</td>\n",
       "      <td>-0.074630</td>\n",
       "      <td>0.001851</td>\n",
       "      <td>-0.150880</td>\n",
       "      <td>0.056271</td>\n",
       "      <td>0.116984</td>\n",
       "      <td>0.022473</td>\n",
       "      <td>0.082704</td>\n",
       "      <td>0.090760</td>\n",
       "      <td>1.000000</td>\n",
       "      <td>0.131301</td>\n",
       "    </tr>\n",
       "    <tr>\n",
       "      <td>artist popularity</td>\n",
       "      <td>-0.006731</td>\n",
       "      <td>0.039355</td>\n",
       "      <td>-0.001430</td>\n",
       "      <td>0.100992</td>\n",
       "      <td>0.004618</td>\n",
       "      <td>-0.112638</td>\n",
       "      <td>-0.010408</td>\n",
       "      <td>-0.190725</td>\n",
       "      <td>0.048725</td>\n",
       "      <td>0.038851</td>\n",
       "      <td>0.003339</td>\n",
       "      <td>-0.034327</td>\n",
       "      <td>0.732455</td>\n",
       "      <td>0.131301</td>\n",
       "      <td>1.000000</td>\n",
       "    </tr>\n",
       "  </tbody>\n",
       "</table>\n",
       "</div>"
      ],
      "text/plain": [
       "                   danceability    energy       key  loudness      mode  \\\n",
       "danceability           1.000000  0.191503  0.034859  0.335458 -0.053447   \n",
       "energy                 0.191503  1.000000  0.052173  0.758635 -0.050894   \n",
       "key                    0.034859  0.052173  1.000000  0.053735 -0.187588   \n",
       "loudness               0.335458  0.758635  0.053735  1.000000 -0.026889   \n",
       "mode                  -0.053447 -0.050894 -0.187588 -0.026889  1.000000   \n",
       "speechiness            0.215534 -0.003112  0.030521 -0.034552 -0.019151   \n",
       "acousticness          -0.267318 -0.681679 -0.051292 -0.555381  0.052982   \n",
       "instrumentalness      -0.226423 -0.277874 -0.029011 -0.464791 -0.027843   \n",
       "liveness              -0.134976  0.203910  0.016499  0.071018  0.007438   \n",
       "valence                0.502099  0.308288  0.043703  0.342732  0.004468   \n",
       "tempo                  0.090255  0.249822  0.020320  0.225713 -0.004417   \n",
       "duration_ms           -0.045257  0.035511 -0.008575  0.028796 -0.000939   \n",
       "popularity             0.133107  0.103231  0.015636  0.221336 -0.017067   \n",
       "release date          -0.055569  0.051769  0.009872  0.077377  0.051520   \n",
       "artist popularity     -0.006731  0.039355 -0.001430  0.100992  0.004618   \n",
       "\n",
       "                   speechiness  acousticness  instrumentalness  liveness  \\\n",
       "danceability          0.215534     -0.267318         -0.226423 -0.134976   \n",
       "energy               -0.003112     -0.681679         -0.277874  0.203910   \n",
       "key                   0.030521     -0.051292         -0.029011  0.016499   \n",
       "loudness             -0.034552     -0.555381         -0.464791  0.071018   \n",
       "mode                 -0.019151      0.052982         -0.027843  0.007438   \n",
       "speechiness           1.000000      0.027945         -0.242770  0.172888   \n",
       "acousticness          0.027945      1.000000          0.218381 -0.052608   \n",
       "instrumentalness     -0.242770      0.218381          1.000000 -0.112169   \n",
       "liveness              0.172888     -0.052608         -0.112169  1.000000   \n",
       "valence               0.087182     -0.208959         -0.285765 -0.000906   \n",
       "tempo                -0.013663     -0.211182         -0.069662 -0.027031   \n",
       "duration_ms          -0.016583     -0.035998          0.002840  0.013130   \n",
       "popularity           -0.100492     -0.113604         -0.233451 -0.032405   \n",
       "release date         -0.074630      0.001851         -0.150880  0.056271   \n",
       "artist popularity    -0.112638     -0.010408         -0.190725  0.048725   \n",
       "\n",
       "                    valence     tempo  duration_ms  popularity  release date  \\\n",
       "danceability       0.502099  0.090255    -0.045257    0.133107     -0.055569   \n",
       "energy             0.308288  0.249822     0.035511    0.103231      0.051769   \n",
       "key                0.043703  0.020320    -0.008575    0.015636      0.009872   \n",
       "loudness           0.342732  0.225713     0.028796    0.221336      0.077377   \n",
       "mode               0.004468 -0.004417    -0.000939   -0.017067      0.051520   \n",
       "speechiness        0.087182 -0.013663    -0.016583   -0.100492     -0.074630   \n",
       "acousticness      -0.208959 -0.211182    -0.035998   -0.113604      0.001851   \n",
       "instrumentalness  -0.285765 -0.069662     0.002840   -0.233451     -0.150880   \n",
       "liveness          -0.000906 -0.027031     0.013130   -0.032405      0.056271   \n",
       "valence            1.000000  0.157876    -0.097651    0.103641      0.116984   \n",
       "tempo              0.157876  1.000000     0.028837    0.041764      0.022473   \n",
       "duration_ms       -0.097651  0.028837     1.000000   -0.041237      0.082704   \n",
       "popularity         0.103641  0.041764    -0.041237    1.000000      0.090760   \n",
       "release date       0.116984  0.022473     0.082704    0.090760      1.000000   \n",
       "artist popularity  0.038851  0.003339    -0.034327    0.732455      0.131301   \n",
       "\n",
       "                   artist popularity  \n",
       "danceability               -0.006731  \n",
       "energy                      0.039355  \n",
       "key                        -0.001430  \n",
       "loudness                    0.100992  \n",
       "mode                        0.004618  \n",
       "speechiness                -0.112638  \n",
       "acousticness               -0.010408  \n",
       "instrumentalness           -0.190725  \n",
       "liveness                    0.048725  \n",
       "valence                     0.038851  \n",
       "tempo                       0.003339  \n",
       "duration_ms                -0.034327  \n",
       "popularity                  0.732455  \n",
       "release date                0.131301  \n",
       "artist popularity           1.000000  "
      ]
     },
     "execution_count": 12,
     "metadata": {},
     "output_type": "execute_result"
    }
   ],
   "source": [
    "df[df.columns[6:]].corr()"
   ]
  },
  {
   "cell_type": "code",
   "execution_count": 16,
   "metadata": {},
   "outputs": [
    {
     "data": {
      "text/plain": [
       "<matplotlib.axes._subplots.AxesSubplot at 0x7f8530ebfd50>"
      ]
     },
     "execution_count": 16,
     "metadata": {},
     "output_type": "execute_result"
    },
    {
     "data": {
      "image/png": "[encoded data removed]",
      "text/plain": [
       "<Figure size 432x288 with 2 Axes>"
      ]
     },
     "metadata": {
      "needs_background": "light"
     },
     "output_type": "display_data"
    }
   ],
   "source": [
    "import seaborn as sns\n",
    "df_var = df[df.columns[6:]]\n",
    "sns.heatmap(df_var.corr(), cmap =\"RdBu\")\n"
   ]
  },
  {
   "cell_type": "code",
   "execution_count": 25,
   "metadata": {},
   "outputs": [
    {
     "data": {
      "text/plain": [
       "<matplotlib.axes._subplots.AxesSubplot at 0x7f853295d610>"
      ]
     },
     "execution_count": 25,
     "metadata": {},
     "output_type": "execute_result"
    },
    {
     "data": {
      "image/png": "[encoded data removed]",
      "text/plain": [
       "<Figure size 432x288 with 1 Axes>"
      ]
     },
     "metadata": {
      "needs_background": "light"
     },
     "output_type": "display_data"
    }
   ],
   "source": [
    "sns.boxplot(df[\"artist popularity\"])"
   ]
  },
  {
   "cell_type": "code",
   "execution_count": 26,
   "metadata": {},
   "outputs": [
    {
     "data": {
      "text/plain": [
       "<matplotlib.axes._subplots.AxesSubplot at 0x7f85329bfc10>"
      ]
     },
     "execution_count": 26,
     "metadata": {},
     "output_type": "execute_result"
    },
    {
     "data": {
      "image/png": "[encoded data removed]",
      "text/plain": [
       "<Figure size 432x288 with 1 Axes>"
      ]
     },
     "metadata": {
      "needs_background": "light"
     },
     "output_type": "display_data"
    }
   ],
   "source": [
    "sns.boxplot(df[\"popularity\"])"
   ]
  },
  {
   "cell_type": "code",
   "execution_count": 27,
   "metadata": {},
   "outputs": [
    {
     "data": {
      "text/plain": [
       "<matplotlib.axes._subplots.AxesSubplot at 0x7f85329bf250>"
      ]
     },
     "execution_count": 27,
     "metadata": {},
     "output_type": "execute_result"
    },
    {
     "data": {
      "image/png": "[encoded data removed]",
      "text/plain": [
       "<Figure size 432x288 with 1 Axes>"
      ]
     },
     "metadata": {
      "needs_background": "light"
     },
     "output_type": "display_data"
    }
   ],
   "source": [
    "sns.boxplot(df[\"danceability\"])"
   ]
  },
  {
   "cell_type": "code",
   "execution_count": 28,
   "metadata": {},
   "outputs": [
    {
     "data": {
      "text/plain": [
       "<matplotlib.axes._subplots.AxesSubplot at 0x7f85329f2590>"
      ]
     },
     "execution_count": 28,
     "metadata": {},
     "output_type": "execute_result"
    },
    {
     "data": {
      "image/png": "[encoded data removed]",
      "text/plain": [
       "<Figure size 432x288 with 1 Axes>"
      ]
     },
     "metadata": {
      "needs_background": "light"
     },
     "output_type": "display_data"
    }
   ],
   "source": [
    "sns.boxplot(df[\"energy\"])"
   ]
  },
  {
   "cell_type": "code",
   "execution_count": 29,
   "metadata": {},
   "outputs": [
    {
     "data": {
      "text/plain": [
       "<matplotlib.axes._subplots.AxesSubplot at 0x7f8532b811d0>"
      ]
     },
     "execution_count": 29,
     "metadata": {},
     "output_type": "execute_result"
    },
    {
     "data": {
      "image/png": "[encoded data removed]",
      "text/plain": [
       "<Figure size 432x288 with 1 Axes>"
      ]
     },
     "metadata": {
      "needs_background": "light"
     },
     "output_type": "display_data"
    }
   ],
   "source": [
    "sns.boxplot(df[\"key\"])"
   ]
  },
  {
   "cell_type": "code",
   "execution_count": 30,
   "metadata": {},
   "outputs": [
    {
     "data": {
      "text/plain": [
       "<matplotlib.axes._subplots.AxesSubplot at 0x7f8532de0090>"
      ]
     },
     "execution_count": 30,
     "metadata": {},
     "output_type": "execute_result"
    },
    {
     "data": {
      "image/png": "[encoded data removed]",
      "text/plain": [
       "<Figure size 432x288 with 1 Axes>"
      ]
     },
     "metadata": {
      "needs_background": "light"
     },
     "output_type": "display_data"
    }
   ],
   "source": [
    "sns.boxplot(df[\"loudness\"])"
   ]
  },
  {
   "cell_type": "code",
   "execution_count": 31,
   "metadata": {},
   "outputs": [
    {
     "data": {
      "text/plain": [
       "<matplotlib.axes._subplots.AxesSubplot at 0x7f8532e92910>"
      ]
     },
     "execution_count": 31,
     "metadata": {},
     "output_type": "execute_result"
    },
    {
     "data": {
      "image/png": "[encoded data removed]",
      "text/plain": [
       "<Figure size 432x288 with 1 Axes>"
      ]
     },
     "metadata": {
      "needs_background": "light"
     },
     "output_type": "display_data"
    }
   ],
   "source": [
    "sns.boxplot(df[\"speechiness\"])"
   ]
  },
  {
   "cell_type": "code",
   "execution_count": 32,
   "metadata": {},
   "outputs": [
    {
     "data": {
      "text/plain": [
       "<matplotlib.axes._subplots.AxesSubplot at 0x7f8532da31d0>"
      ]
     },
     "execution_count": 32,
     "metadata": {},
     "output_type": "execute_result"
    },
    {
     "data": {
      "image/png": "[encoded data removed]",
      "text/plain": [
       "<Figure size 432x288 with 1 Axes>"
      ]
     },
     "metadata": {
      "needs_background": "light"
     },
     "output_type": "display_data"
    }
   ],
   "source": [
    "sns.boxplot(df[\"acousticness\"])"
   ]
  },
  {
   "cell_type": "code",
   "execution_count": 33,
   "metadata": {},
   "outputs": [
    {
     "data": {
      "text/plain": [
       "<matplotlib.axes._subplots.AxesSubplot at 0x7f8532f3f310>"
      ]
     },
     "execution_count": 33,
     "metadata": {},
     "output_type": "execute_result"
    },
    {
     "data": {
      "image/png": "[encoded data removed]",
      "text/plain": [
       "<Figure size 432x288 with 1 Axes>"
      ]
     },
     "metadata": {
      "needs_background": "light"
     },
     "output_type": "display_data"
    }
   ],
   "source": [
    "sns.boxplot(df[\"instrumentalness\"])"
   ]
  },
  {
   "cell_type": "code",
   "execution_count": 34,
   "metadata": {},
   "outputs": [
    {
     "data": {
      "text/plain": [
       "<matplotlib.axes._subplots.AxesSubplot at 0x7f85331902d0>"
      ]
     },
     "execution_count": 34,
     "metadata": {},
     "output_type": "execute_result"
    },
    {
     "data": {
      "image/png": "[encoded data removed]",
      "text/plain": [
       "<Figure size 432x288 with 1 Axes>"
      ]
     },
     "metadata": {
      "needs_background": "light"
     },
     "output_type": "display_data"
    }
   ],
   "source": [
    "sns.boxplot(df[\"liveness\"])"
   ]
  },
  {
   "cell_type": "code",
   "execution_count": 35,
   "metadata": {},
   "outputs": [
    {
     "data": {
      "text/plain": [
       "<matplotlib.axes._subplots.AxesSubplot at 0x7f853328f050>"
      ]
     },
     "execution_count": 35,
     "metadata": {},
     "output_type": "execute_result"
    },
    {
     "data": {
      "image/png": "[encoded data removed]",
      "text/plain": [
       "<Figure size 432x288 with 1 Axes>"
      ]
     },
     "metadata": {
      "needs_background": "light"
     },
     "output_type": "display_data"
    }
   ],
   "source": [
    "sns.boxplot(df[\"valence\"])"
   ]
  },
  {
   "cell_type": "code",
   "execution_count": 36,
   "metadata": {},
   "outputs": [
    {
     "data": {
      "text/plain": [
       "<matplotlib.axes._subplots.AxesSubplot at 0x7f853323e290>"
      ]
     },
     "execution_count": 36,
     "metadata": {},
     "output_type": "execute_result"
    },
    {
     "data": {
      "image/png": "[encoded data removed]",
      "text/plain": [
       "<Figure size 432x288 with 1 Axes>"
      ]
     },
     "metadata": {
      "needs_background": "light"
     },
     "output_type": "display_data"
    }
   ],
   "source": [
    "sns.boxplot(df[\"tempo\"])"
   ]
  },
  {
   "cell_type": "code",
   "execution_count": 37,
   "metadata": {},
   "outputs": [
    {
     "data": {
      "text/plain": [
       "<matplotlib.axes._subplots.AxesSubplot at 0x7f85335822d0>"
      ]
     },
     "execution_count": 37,
     "metadata": {},
     "output_type": "execute_result"
    },
    {
     "data": {
      "image/png": "[encoded data removed]",
      "text/plain": [
       "<Figure size 432x288 with 1 Axes>"
      ]
     },
     "metadata": {
      "needs_background": "light"
     },
     "output_type": "display_data"
    }
   ],
   "source": [
    "df[\"tempo\"].hist()"
   ]
  },
  {
   "cell_type": "code",
   "execution_count": 57,
   "metadata": {},
   "outputs": [
    {
     "data": {
      "text/plain": [
       "<matplotlib.axes._subplots.AxesSubplot at 0x7f850f72bcd0>"
      ]
     },
     "execution_count": 57,
     "metadata": {},
     "output_type": "execute_result"
    },
    {
     "data": {
      "image/png": "[encoded data removed]",
      "text/plain": [
       "<Figure size 1440x720 with 2 Axes>"
      ]
     },
     "metadata": {
      "needs_background": "light"
     },
     "output_type": "display_data"
    }
   ],
   "source": [
    "import matplotlib.pyplot as plt\n",
    "fig, (ax1, ax2) = plt.subplots(1, 2, figsize=(20,10))\n",
    "sns.distplot(df[\"popularity\"], ax=ax1)\n",
    "sns.boxplot(df[\"popularity\"], ax=ax2)\n"
   ]
  },
  {
   "cell_type": "code",
   "execution_count": 65,
   "metadata": {},
   "outputs": [
    {
     "data": {
      "text/plain": [
       "<matplotlib.axes._subplots.AxesSubplot at 0x7f85119c6250>"
      ]
     },
     "execution_count": 65,
     "metadata": {},
     "output_type": "execute_result"
    },
    {
     "data": {
      "image/png": "[encoded data removed]",
      "text/plain": [
       "<Figure size 1440x720 with 2 Axes>"
      ]
     },
     "metadata": {
      "needs_background": "light"
     },
     "output_type": "display_data"
    },
    {
     "data": {
      "image/png": "[encoded data removed]",
      "text/plain": [
       "<Figure size 1440x720 with 2 Axes>"
      ]
     },
     "metadata": {
      "needs_background": "light"
     },
     "output_type": "display_data"
    }
   ],
   "source": [
    "import matplotlib.pyplot as plt\n",
    "fig, (ax1, ax2) = plt.subplots(1, 2, figsize=(20,10))\n",
    "\n",
    "df_drop = df.dropna()\n",
    "\n",
    "for col in df_drop[.c6:]:\n",
    "    \n",
    "    sns.distplot(df_drop[\"danceability\"], ax=ax1)\n",
    "    sns.boxplot(df_drop[\"danceability\"], ax=ax2)\n"
   ]
  },
  {
   "cell_type": "code",
   "execution_count": null,
   "metadata": {},
   "outputs": [],
   "source": []
  }
 ],
 "metadata": {
  "kernelspec": {
   "display_name": "Python 3",
   "language": "python",
   "name": "python3"
  },
  "language_info": {
   "codemirror_mode": {
    "name": "ipython",
    "version": 3
   },
   "file_extension": ".py",
   "mimetype": "text/x-python",
   "name": "python",
   "nbconvert_exporter": "python",
   "pygments_lexer": "ipython3",
   "version": "3.7.4"
  }
 },
 "nbformat": 4,
 "nbformat_minor": 2
}
