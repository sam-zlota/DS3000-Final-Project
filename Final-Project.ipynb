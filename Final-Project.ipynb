{
 "cells": [
  {
   "cell_type": "code",
   "execution_count": 7,
   "metadata": {},
   "outputs": [],
   "source": [
    "import pandas as pd\n",
    "import matplotlib.pyplot as plt\n",
    "import seaborn as sns\n",
    "import numpy as np"
   ]
  },
  {
   "cell_type": "code",
   "execution_count": 8,
   "metadata": {},
   "outputs": [],
   "source": [
    "df = pd.read_csv(\"data/clean_data.csv\")"
   ]
  },
  {
   "cell_type": "code",
   "execution_count": 9,
   "metadata": {},
   "outputs": [
    {
     "name": "stdout",
     "output_type": "stream",
     "text": [
      "Index(['danceability', 'energy', 'key', 'loudness', 'mode', 'speechiness',\n",
      "       'acousticness', 'instrumentalness', 'liveness', 'valence', 'tempo',\n",
      "       'duration_ms', 'popularity', 'release date', 'artist popularity'],\n",
      "      dtype='object')\n"
     ]
    }
   ],
   "source": [
    "feature_cols = df.columns[6:]\n",
    "print(feature_cols)"
   ]
  },
  {
   "cell_type": "code",
   "execution_count": 10,
   "metadata": {},
   "outputs": [
    {
     "data": {
      "text/html": [
       "<div>\n",
       "<style scoped>\n",
       "    .dataframe tbody tr th:only-of-type {\n",
       "        vertical-align: middle;\n",
       "    }\n",
       "\n",
       "    .dataframe tbody tr th {\n",
       "        vertical-align: top;\n",
       "    }\n",
       "\n",
       "    .dataframe thead th {\n",
       "        text-align: right;\n",
       "    }\n",
       "</style>\n",
       "<table border=\"1\" class=\"dataframe\">\n",
       "  <thead>\n",
       "    <tr style=\"text-align: right;\">\n",
       "      <th></th>\n",
       "      <th>Unnamed: 0</th>\n",
       "      <th>Unnamed: 0.1</th>\n",
       "      <th>track</th>\n",
       "      <th>artist</th>\n",
       "      <th>id</th>\n",
       "      <th>search term</th>\n",
       "      <th>danceability</th>\n",
       "      <th>energy</th>\n",
       "      <th>key</th>\n",
       "      <th>loudness</th>\n",
       "      <th>...</th>\n",
       "      <th>speechiness</th>\n",
       "      <th>acousticness</th>\n",
       "      <th>instrumentalness</th>\n",
       "      <th>liveness</th>\n",
       "      <th>valence</th>\n",
       "      <th>tempo</th>\n",
       "      <th>duration_ms</th>\n",
       "      <th>popularity</th>\n",
       "      <th>release date</th>\n",
       "      <th>artist popularity</th>\n",
       "    </tr>\n",
       "  </thead>\n",
       "  <tbody>\n",
       "    <tr>\n",
       "      <td>0</td>\n",
       "      <td>0</td>\n",
       "      <td>0</td>\n",
       "      <td>My Cousin Harris</td>\n",
       "      <td>Aziz Ansari</td>\n",
       "      <td>0ojSU3QoovuJxwVYk34opc</td>\n",
       "      <td>intimate</td>\n",
       "      <td>0.657</td>\n",
       "      <td>0.6220</td>\n",
       "      <td>3.0</td>\n",
       "      <td>-7.026</td>\n",
       "      <td>...</td>\n",
       "      <td>0.9440</td>\n",
       "      <td>0.8040</td>\n",
       "      <td>0.00000</td>\n",
       "      <td>0.917</td>\n",
       "      <td>0.3950</td>\n",
       "      <td>66.521</td>\n",
       "      <td>96053.0</td>\n",
       "      <td>35</td>\n",
       "      <td>3966.0</td>\n",
       "      <td>49.000000</td>\n",
       "    </tr>\n",
       "    <tr>\n",
       "      <td>1</td>\n",
       "      <td>1</td>\n",
       "      <td>1</td>\n",
       "      <td>Before She Does - Live At Target Center, Minne...</td>\n",
       "      <td>Eric Church</td>\n",
       "      <td>42ToYHW2koZnAqgDoEQ314</td>\n",
       "      <td>minneapolis</td>\n",
       "      <td>0.504</td>\n",
       "      <td>0.7770</td>\n",
       "      <td>0.0</td>\n",
       "      <td>-8.583</td>\n",
       "      <td>...</td>\n",
       "      <td>0.0370</td>\n",
       "      <td>0.0648</td>\n",
       "      <td>0.00001</td>\n",
       "      <td>0.803</td>\n",
       "      <td>0.3560</td>\n",
       "      <td>104.023</td>\n",
       "      <td>209277.0</td>\n",
       "      <td>27</td>\n",
       "      <td>553.0</td>\n",
       "      <td>77.000000</td>\n",
       "    </tr>\n",
       "    <tr>\n",
       "      <td>2</td>\n",
       "      <td>2</td>\n",
       "      <td>2</td>\n",
       "      <td>Muerto en Choroni</td>\n",
       "      <td>Selected Music</td>\n",
       "      <td>1nfbOAPwnMRBlE0rUNGg43</td>\n",
       "      <td>selected</td>\n",
       "      <td>0.726</td>\n",
       "      <td>0.9150</td>\n",
       "      <td>4.0</td>\n",
       "      <td>-5.407</td>\n",
       "      <td>...</td>\n",
       "      <td>0.2300</td>\n",
       "      <td>0.0351</td>\n",
       "      <td>0.00000</td>\n",
       "      <td>0.283</td>\n",
       "      <td>0.8370</td>\n",
       "      <td>127.994</td>\n",
       "      <td>246826.0</td>\n",
       "      <td>20</td>\n",
       "      <td>91.0</td>\n",
       "      <td>41.500000</td>\n",
       "    </tr>\n",
       "    <tr>\n",
       "      <td>3</td>\n",
       "      <td>3</td>\n",
       "      <td>3</td>\n",
       "      <td>Unwind in the Tropics</td>\n",
       "      <td>Relaxmycat</td>\n",
       "      <td>4iuthceAzx9jJt5o08HwMb</td>\n",
       "      <td>resting</td>\n",
       "      <td>0.204</td>\n",
       "      <td>0.0423</td>\n",
       "      <td>6.0</td>\n",
       "      <td>-26.704</td>\n",
       "      <td>...</td>\n",
       "      <td>0.0517</td>\n",
       "      <td>0.9930</td>\n",
       "      <td>0.82700</td>\n",
       "      <td>0.112</td>\n",
       "      <td>0.0345</td>\n",
       "      <td>89.789</td>\n",
       "      <td>112000.0</td>\n",
       "      <td>0</td>\n",
       "      <td>9.0</td>\n",
       "      <td>37.666667</td>\n",
       "    </tr>\n",
       "    <tr>\n",
       "      <td>4</td>\n",
       "      <td>4</td>\n",
       "      <td>4</td>\n",
       "      <td>Waiver</td>\n",
       "      <td>Reki</td>\n",
       "      <td>7l1B4m3ujaWim9n3zMMhwa</td>\n",
       "      <td>waive</td>\n",
       "      <td>0.419</td>\n",
       "      <td>0.6690</td>\n",
       "      <td>0.0</td>\n",
       "      <td>-8.137</td>\n",
       "      <td>...</td>\n",
       "      <td>0.0377</td>\n",
       "      <td>0.5070</td>\n",
       "      <td>0.34800</td>\n",
       "      <td>0.115</td>\n",
       "      <td>0.0382</td>\n",
       "      <td>94.837</td>\n",
       "      <td>252682.0</td>\n",
       "      <td>4</td>\n",
       "      <td>3087.0</td>\n",
       "      <td>25.000000</td>\n",
       "    </tr>\n",
       "  </tbody>\n",
       "</table>\n",
       "<p>5 rows × 21 columns</p>\n",
       "</div>"
      ],
      "text/plain": [
       "   Unnamed: 0  Unnamed: 0.1  \\\n",
       "0           0             0   \n",
       "1           1             1   \n",
       "2           2             2   \n",
       "3           3             3   \n",
       "4           4             4   \n",
       "\n",
       "                                               track          artist  \\\n",
       "0                                   My Cousin Harris     Aziz Ansari   \n",
       "1  Before She Does - Live At Target Center, Minne...     Eric Church   \n",
       "2                                  Muerto en Choroni  Selected Music   \n",
       "3                              Unwind in the Tropics      Relaxmycat   \n",
       "4                                             Waiver            Reki   \n",
       "\n",
       "                       id  search term  danceability  energy  key  loudness  \\\n",
       "0  0ojSU3QoovuJxwVYk34opc     intimate         0.657  0.6220  3.0    -7.026   \n",
       "1  42ToYHW2koZnAqgDoEQ314  minneapolis         0.504  0.7770  0.0    -8.583   \n",
       "2  1nfbOAPwnMRBlE0rUNGg43     selected         0.726  0.9150  4.0    -5.407   \n",
       "3  4iuthceAzx9jJt5o08HwMb      resting         0.204  0.0423  6.0   -26.704   \n",
       "4  7l1B4m3ujaWim9n3zMMhwa        waive         0.419  0.6690  0.0    -8.137   \n",
       "\n",
       "   ...  speechiness  acousticness  instrumentalness  liveness  valence  \\\n",
       "0  ...       0.9440        0.8040           0.00000     0.917   0.3950   \n",
       "1  ...       0.0370        0.0648           0.00001     0.803   0.3560   \n",
       "2  ...       0.2300        0.0351           0.00000     0.283   0.8370   \n",
       "3  ...       0.0517        0.9930           0.82700     0.112   0.0345   \n",
       "4  ...       0.0377        0.5070           0.34800     0.115   0.0382   \n",
       "\n",
       "     tempo  duration_ms  popularity  release date  artist popularity  \n",
       "0   66.521      96053.0          35        3966.0          49.000000  \n",
       "1  104.023     209277.0          27         553.0          77.000000  \n",
       "2  127.994     246826.0          20          91.0          41.500000  \n",
       "3   89.789     112000.0           0           9.0          37.666667  \n",
       "4   94.837     252682.0           4        3087.0          25.000000  \n",
       "\n",
       "[5 rows x 21 columns]"
      ]
     },
     "execution_count": 10,
     "metadata": {},
     "output_type": "execute_result"
    }
   ],
   "source": [
    "df.head()"
   ]
  },
  {
   "cell_type": "markdown",
   "metadata": {},
   "source": [
    "# Data Preparation"
   ]
  },
  {
   "cell_type": "markdown",
   "metadata": {},
   "source": [
    "# Dealing With NAN values and Outliers"
   ]
  },
  {
   "cell_type": "code",
   "execution_count": 11,
   "metadata": {},
   "outputs": [],
   "source": [
    "# df = df.dropna()"
   ]
  },
  {
   "cell_type": "code",
   "execution_count": 12,
   "metadata": {},
   "outputs": [],
   "source": [
    "# x = df[\"duration_ms\"]\n",
    "# fig, ((ax1, ax2),(ax3,ax4)) = plt.subplots(2, 2, figsize=(20,10))\n",
    "# sns.distplot(x, ax=ax1)\n",
    "# sns.boxplot(x, ax=ax2)\n",
    "\n",
    "\n",
    "# df[\"duration_ms\"] = np.log(df[\"duration_ms\"])\n",
    "# x = df[\"duration_ms\"]\n",
    "\n",
    "# sns.distplot(x, ax=ax3)\n",
    "# sns.boxplot(x, ax=ax4)"
   ]
  },
  {
   "cell_type": "code",
   "execution_count": 13,
   "metadata": {},
   "outputs": [],
   "source": [
    "# df[\"duration_ms\"] = np.log(df[\"duration_ms\"])\n",
    "# x = df[\"duration_ms\"]\n",
    "# fig, (ax1, ax2) = plt.subplots(2, 1, figsize=(15,10))\n",
    "# sns.distplot(x, ax=ax1)\n",
    "# sns.boxplot(x, ax=ax2)"
   ]
  },
  {
   "cell_type": "code",
   "execution_count": null,
   "metadata": {},
   "outputs": [],
   "source": []
  },
  {
   "cell_type": "code",
   "execution_count": 14,
   "metadata": {},
   "outputs": [],
   "source": [
    "# df[\"release date\"] = np.log(df[\"release date\"])\n",
    "# df.dropna()\n",
    "# x = df[\"release date\"]\n",
    "# fig, (ax1, ax2) = plt.subplots(2, 1, figsize=(15,10))\n",
    "# sns.distplot(x, ax=ax1)\n",
    "# sns.boxplot(x, ax=ax2)"
   ]
  },
  {
   "cell_type": "code",
   "execution_count": 15,
   "metadata": {},
   "outputs": [],
   "source": [
    "# from scipy import stats\n",
    "\n",
    "\n",
    "# df_outliers = df.copy()\n",
    "\n",
    "\n",
    "\n",
    "# z = np.abs(stats.zscore(df_outliers[\"duration_ms\"]))\n",
    "# to_remove = np.where(z > 3)\n",
    "\n",
    "\n",
    "# for i in list(to_remove[0]):\n",
    "#     print(i)\n",
    "#     try:\n",
    "#         df_outliers.drop(index=i, inplace=True)\n",
    "#     except:\n",
    "#         continue\n",
    "\n"
   ]
  },
  {
   "cell_type": "markdown",
   "metadata": {},
   "source": [
    "# Data Exploration"
   ]
  },
  {
   "cell_type": "markdown",
   "metadata": {},
   "source": [
    "## Visualizing Distributions"
   ]
  },
  {
   "cell_type": "code",
   "execution_count": 18,
   "metadata": {},
   "outputs": [
    {
     "ename": "ValueError",
     "evalue": "cannot convert float NaN to integer",
     "output_type": "error",
     "traceback": [
      "\u001b[0;31m---------------------------------------------------------------------------\u001b[0m",
      "\u001b[0;31mValueError\u001b[0m                                Traceback (most recent call last)",
      "\u001b[0;32m<ipython-input-18-695b4ca34825>\u001b[0m in \u001b[0;36m<module>\u001b[0;34m\u001b[0m\n\u001b[1;32m      2\u001b[0m     \u001b[0mfig\u001b[0m\u001b[0;34m,\u001b[0m \u001b[0;34m(\u001b[0m\u001b[0max1\u001b[0m\u001b[0;34m,\u001b[0m \u001b[0max2\u001b[0m\u001b[0;34m)\u001b[0m \u001b[0;34m=\u001b[0m \u001b[0mplt\u001b[0m\u001b[0;34m.\u001b[0m\u001b[0msubplots\u001b[0m\u001b[0;34m(\u001b[0m\u001b[0;36m1\u001b[0m\u001b[0;34m,\u001b[0m \u001b[0;36m2\u001b[0m\u001b[0;34m,\u001b[0m \u001b[0mfigsize\u001b[0m\u001b[0;34m=\u001b[0m\u001b[0;34m(\u001b[0m\u001b[0;36m15\u001b[0m\u001b[0;34m,\u001b[0m\u001b[0;36m5\u001b[0m\u001b[0;34m)\u001b[0m\u001b[0;34m)\u001b[0m\u001b[0;34m\u001b[0m\u001b[0;34m\u001b[0m\u001b[0m\n\u001b[1;32m      3\u001b[0m \u001b[0;34m\u001b[0m\u001b[0m\n\u001b[0;32m----> 4\u001b[0;31m     \u001b[0msns\u001b[0m\u001b[0;34m.\u001b[0m\u001b[0mdistplot\u001b[0m\u001b[0;34m(\u001b[0m\u001b[0mdf\u001b[0m\u001b[0;34m[\u001b[0m\u001b[0mcol\u001b[0m\u001b[0;34m]\u001b[0m\u001b[0;34m,\u001b[0m \u001b[0max\u001b[0m\u001b[0;34m=\u001b[0m\u001b[0max1\u001b[0m\u001b[0;34m)\u001b[0m\u001b[0;34m\u001b[0m\u001b[0;34m\u001b[0m\u001b[0m\n\u001b[0m\u001b[1;32m      5\u001b[0m     \u001b[0msns\u001b[0m\u001b[0;34m.\u001b[0m\u001b[0mboxplot\u001b[0m\u001b[0;34m(\u001b[0m\u001b[0mdf\u001b[0m\u001b[0;34m[\u001b[0m\u001b[0mcol\u001b[0m\u001b[0;34m]\u001b[0m\u001b[0;34m,\u001b[0m \u001b[0max\u001b[0m\u001b[0;34m=\u001b[0m\u001b[0max2\u001b[0m\u001b[0;34m)\u001b[0m\u001b[0;34m\u001b[0m\u001b[0;34m\u001b[0m\u001b[0m\n",
      "\u001b[0;32m~/opt/anaconda3/lib/python3.7/site-packages/seaborn/distributions.py\u001b[0m in \u001b[0;36mdistplot\u001b[0;34m(a, bins, hist, kde, rug, fit, hist_kws, kde_kws, rug_kws, fit_kws, color, vertical, norm_hist, axlabel, label, ax)\u001b[0m\n\u001b[1;32m    213\u001b[0m     \u001b[0;32mif\u001b[0m \u001b[0mhist\u001b[0m\u001b[0;34m:\u001b[0m\u001b[0;34m\u001b[0m\u001b[0;34m\u001b[0m\u001b[0m\n\u001b[1;32m    214\u001b[0m         \u001b[0;32mif\u001b[0m \u001b[0mbins\u001b[0m \u001b[0;32mis\u001b[0m \u001b[0;32mNone\u001b[0m\u001b[0;34m:\u001b[0m\u001b[0;34m\u001b[0m\u001b[0;34m\u001b[0m\u001b[0m\n\u001b[0;32m--> 215\u001b[0;31m             \u001b[0mbins\u001b[0m \u001b[0;34m=\u001b[0m \u001b[0mmin\u001b[0m\u001b[0;34m(\u001b[0m\u001b[0m_freedman_diaconis_bins\u001b[0m\u001b[0;34m(\u001b[0m\u001b[0ma\u001b[0m\u001b[0;34m)\u001b[0m\u001b[0;34m,\u001b[0m \u001b[0;36m50\u001b[0m\u001b[0;34m)\u001b[0m\u001b[0;34m\u001b[0m\u001b[0;34m\u001b[0m\u001b[0m\n\u001b[0m\u001b[1;32m    216\u001b[0m         \u001b[0mhist_kws\u001b[0m\u001b[0;34m.\u001b[0m\u001b[0msetdefault\u001b[0m\u001b[0;34m(\u001b[0m\u001b[0;34m\"alpha\"\u001b[0m\u001b[0;34m,\u001b[0m \u001b[0;36m0.4\u001b[0m\u001b[0;34m)\u001b[0m\u001b[0;34m\u001b[0m\u001b[0;34m\u001b[0m\u001b[0m\n\u001b[1;32m    217\u001b[0m         \u001b[0;32mif\u001b[0m \u001b[0mLooseVersion\u001b[0m\u001b[0;34m(\u001b[0m\u001b[0mmpl\u001b[0m\u001b[0;34m.\u001b[0m\u001b[0m__version__\u001b[0m\u001b[0;34m)\u001b[0m \u001b[0;34m<\u001b[0m \u001b[0mLooseVersion\u001b[0m\u001b[0;34m(\u001b[0m\u001b[0;34m\"2.2\"\u001b[0m\u001b[0;34m)\u001b[0m\u001b[0;34m:\u001b[0m\u001b[0;34m\u001b[0m\u001b[0;34m\u001b[0m\u001b[0m\n",
      "\u001b[0;32m~/opt/anaconda3/lib/python3.7/site-packages/seaborn/distributions.py\u001b[0m in \u001b[0;36m_freedman_diaconis_bins\u001b[0;34m(a)\u001b[0m\n\u001b[1;32m     37\u001b[0m         \u001b[0;32mreturn\u001b[0m \u001b[0mint\u001b[0m\u001b[0;34m(\u001b[0m\u001b[0mnp\u001b[0m\u001b[0;34m.\u001b[0m\u001b[0msqrt\u001b[0m\u001b[0;34m(\u001b[0m\u001b[0ma\u001b[0m\u001b[0;34m.\u001b[0m\u001b[0msize\u001b[0m\u001b[0;34m)\u001b[0m\u001b[0;34m)\u001b[0m\u001b[0;34m\u001b[0m\u001b[0;34m\u001b[0m\u001b[0m\n\u001b[1;32m     38\u001b[0m     \u001b[0;32melse\u001b[0m\u001b[0;34m:\u001b[0m\u001b[0;34m\u001b[0m\u001b[0;34m\u001b[0m\u001b[0m\n\u001b[0;32m---> 39\u001b[0;31m         \u001b[0;32mreturn\u001b[0m \u001b[0mint\u001b[0m\u001b[0;34m(\u001b[0m\u001b[0mnp\u001b[0m\u001b[0;34m.\u001b[0m\u001b[0mceil\u001b[0m\u001b[0;34m(\u001b[0m\u001b[0;34m(\u001b[0m\u001b[0ma\u001b[0m\u001b[0;34m.\u001b[0m\u001b[0mmax\u001b[0m\u001b[0;34m(\u001b[0m\u001b[0;34m)\u001b[0m \u001b[0;34m-\u001b[0m \u001b[0ma\u001b[0m\u001b[0;34m.\u001b[0m\u001b[0mmin\u001b[0m\u001b[0;34m(\u001b[0m\u001b[0;34m)\u001b[0m\u001b[0;34m)\u001b[0m \u001b[0;34m/\u001b[0m \u001b[0mh\u001b[0m\u001b[0;34m)\u001b[0m\u001b[0;34m)\u001b[0m\u001b[0;34m\u001b[0m\u001b[0;34m\u001b[0m\u001b[0m\n\u001b[0m\u001b[1;32m     40\u001b[0m \u001b[0;34m\u001b[0m\u001b[0m\n\u001b[1;32m     41\u001b[0m \u001b[0;34m\u001b[0m\u001b[0m\n",
      "\u001b[0;31mValueError\u001b[0m: cannot convert float NaN to integer"
     ]
    },
    {
     "data": {
      "image/png": "[encoded data removed]",
      "text/plain": [
       "<Figure size 1080x360 with 2 Axes>"
      ]
     },
     "metadata": {
      "needs_background": "light"
     },
     "output_type": "display_data"
    }
   ],
   "source": [
    "for col in feature_cols:\n",
    "    fig, (ax1, ax2) = plt.subplots(1, 2, figsize=(15,5))\n",
    "\n",
    "    sns.distplot(df[col], ax=ax1)\n",
    "    sns.boxplot(df[col], ax=ax2)\n"
   ]
  },
  {
   "cell_type": "markdown",
   "metadata": {},
   "source": [
    "## Visualizing Correlation Between Variables"
   ]
  },
  {
   "cell_type": "code",
   "execution_count": null,
   "metadata": {},
   "outputs": [],
   "source": [
    "import seaborn as sns\n",
    "df_var = df[df.columns[6:]]\n",
    "fig, ax = plt.subplots(1,1,figsize=(10,9))\n",
    "sns.heatmap(df_var.corr(), ax=ax, cmap =\"RdBu\")"
   ]
  },
  {
   "cell_type": "markdown",
   "metadata": {},
   "source": [
    "## Visualizing Correlation between Features and Target  "
   ]
  },
  {
   "cell_type": "code",
   "execution_count": null,
   "metadata": {},
   "outputs": [],
   "source": [
    "df_samp = df_drop.sample(100)\n",
    "fig, axs = plt.subplots(5, 3, figsize=(20, 25))\n",
    "\n",
    "\n",
    "for i in range(len(cols)):\n",
    "    sns.scatterplot(df_samp[cols[i]], df_samp[\"popularity\"], \n",
    "                    hue = df_samp[\"popularity\"], size = df[\"artist popularity\"], \n",
    "                  sizes=(50,300), \n",
    "                    legend=False, palette=\"copper_r\", ax=axs.flat[i])"
   ]
  },
  {
   "cell_type": "code",
   "execution_count": null,
   "metadata": {},
   "outputs": [],
   "source": []
  },
  {
   "cell_type": "code",
   "execution_count": null,
   "metadata": {},
   "outputs": [],
   "source": [
    "print(to_remove[0])"
   ]
  },
  {
   "cell_type": "code",
   "execution_count": null,
   "metadata": {},
   "outputs": [],
   "source": []
  }
 ],
 "metadata": {
  "kernelspec": {
   "display_name": "Python 3",
   "language": "python",
   "name": "python3"
  },
  "language_info": {
   "codemirror_mode": {
    "name": "ipython",
    "version": 3
   },
   "file_extension": ".py",
   "mimetype": "text/x-python",
   "name": "python",
   "nbconvert_exporter": "python",
   "pygments_lexer": "ipython3",
   "version": "3.7.4"
  }
 },
 "nbformat": 4,
 "nbformat_minor": 2
}
