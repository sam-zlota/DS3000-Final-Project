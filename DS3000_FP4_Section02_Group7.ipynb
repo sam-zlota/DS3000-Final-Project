{
 "cells": [
  {
   "cell_type": "markdown",
   "metadata": {},
   "source": [
    "<center> <h2> DS 3000 - Fall 2020</h2> </center>\n",
    "<center> <h3> DS Report </h3> </center>\n"
   ]
  },
  {
   "cell_type": "markdown",
   "metadata": {},
   "source": [
    "<center> <h3> Project Title</h3> </center>\n",
    "<center><h4>Glenn Billman, Shreya Yalamanchili, Sam Zlota</h4></center>\n"
   ]
  },
  {
   "cell_type": "markdown",
   "metadata": {},
   "source": [
    "  "
   ]
  },
  {
   "cell_type": "markdown",
   "metadata": {},
   "source": [
    "<hr style=\"height:2px; border:none; color:black; background-color:black;\">"
   ]
  },
  {
   "cell_type": "markdown",
   "metadata": {},
   "source": [
    "#### Executive Summary:\n",
    "\n",
    "Add your summary here (100-150 words)\n",
    "\n",
    "Provide a brief summary of your project. After reading this executive summary, your readers should have a rough understanding of what you did in this project. You can think of this summary in terms of the four sections of the report and write 1-2 sentences describing each section.\n",
    "\n"
   ]
  },
  {
   "cell_type": "markdown",
   "metadata": {},
   "source": [
    "<hr style=\"height:2px; border:none; color:black; background-color:black;\">"
   ]
  },
  {
   "cell_type": "markdown",
   "metadata": {},
   "source": [
    "## Outline\n",
    "1. <a href='#1'>INTRODUCTION</a>\n",
    "2. <a href='#2'>METHOD</a>\n",
    "3. <a href='#3'>RESULTS</a>\n",
    "4. <a href='#4'>DISCUSSION</a>"
   ]
  },
  {
   "cell_type": "markdown",
   "metadata": {},
   "source": [
    "<a id=\"1\"></a>\n",
    "<hr style=\"height:2px; border:none; color:black; background-color:black;\">"
   ]
  },
  {
   "cell_type": "markdown",
   "metadata": {},
   "source": [
    "## 1. INTRODUCTION"
   ]
  },
  {
   "cell_type": "markdown",
   "metadata": {},
   "source": [
    "#### Problem Statement\n",
    "\n",
    "Knowing what kind of music to release can be difficult for artists and producers, so this project can help users explore how popular a given song would be today. Artists would then know what type of music is the most popular, and can release songs accordingly. More specifically, our project is focused on predicting a song’s popularity based on features of the track. In this project, we sought to compare several supervised machine learning algorithms to determine the popularity of a given song. Through our analysis, we would like to learn more about what factors are important in determining how popular a song is, what types of songs are more popular, and why certain songs are more popular than others. \n",
    "\n",
    "#### Significance of the Problem\n",
    "It is important to tackle this problem, because it increases efficiency in the music industry. Knowing what kind of music will be popular today makes it much easier for artists and producers to cater new music to these results. In the end, consumers are satisfied because they receive music they enjoy, and artists are satisfied because they realize increased profits. \n",
    "Insights from this project can also be useful in other ways. Seeing which of our features most affects popularity can tell artists and producers what to focus on in their music. Furthermore, looking at metrics such as when the song was released and how popular the artist(s) on the song are can provide additional insight on how features related to the song (but not part of the actual music) affect its popularity. \n",
    "\n",
    "* **(optional)** Has there been previous work on your topic in terms of applying ML techniques to analyze similar datasets? Do some research into your topic. What algorithms were used? What was the performance of those algorithms? Cite your sources appropriately. You can use the numbered reference format or APA (if you are more comfortable with it).\n",
    "\n",
    "#### Questions/Hypothesis\n",
    "Given the aforementioned problem and its importance, we set out to tackle the following questions:\n",
    "* What features are important in determining popularity for a given song? Which features have comparatively little impact on determining popularity?\n",
    "* Why are certain songs more popular than others?\n",
    "* What types (genre, region, artist, etc.) of songs are the most popular? What types are least popular?\n",
    "* Which ML algorithm is most accurate in predicting song popularity?\n",
    "* How does the average popularity for a given group (genre, artist, release date) change over time?\n",
    "\n",
    "Based on these questions, we have formulated a list of hypotheses:\n",
    "* Songs that are released within the past 90 days will be categorized as popular.\n",
    "* Songs that have an artist popularity above 85 will be categorized as popular.\n",
    "* Songs that are from the pop genre will be categorized as popular. \n",
    "* Songs that are released closer to today will be more popular than songs that were released further in the past.\n",
    "* Songs that have a medium-high value for “energy” will be more popular than other songs.\n",
    "* Songs that have a high value for “danceability” will be more popular than other songs.\n",
    "* Songs that have a higher artist popularity will be more popular than other songs.\n"
   ]
  },
  {
   "cell_type": "markdown",
   "metadata": {},
   "source": [
    "<a id=\"2\"></a>\n",
    "<hr style=\"height:2px; border:none; color:black; background-color:black;\">"
   ]
  },
  {
   "cell_type": "markdown",
   "metadata": {},
   "source": [
    "## 2. METHOD"
   ]
  },
  {
   "cell_type": "markdown",
   "metadata": {},
   "source": [
    "### 2.1. Data Acquisition\n",
    "\n",
    "We retrieved our data for this project from Spotify’s API. To pull 10,000 random songs, we used the search feature of the Spotify API and a text file of the 20,000 most common English words. A word was searched for, and then an offset number between 0 and 200 was chosen to select a song from those results. Some obscure words did not yield results, in which case the loop would start over again with a new word. \n",
    "\n",
    "Once we had a dataframe of 10,000 songs, we needed to access the song’s traits. Using the song id, which was included in our original dataframe, we could access the tracks endpoint, which contained most of the information about the song, such as length, tempo, ect. The artist and album information was also stored in a dataframe. From the artist and album json blobs, the artist and album ids were retrieved. To access artist popularity, we used the artist id to access the artist endpoints. The release date was accessed via the album endpoint. \n",
    "\n",
    "The raw data set had 10,000 rows with 18 columns. This included general information about a song such as track, artist, id, release date and search term, as well as the song’s qualities, which Spotify determined. There are danceability, energy, key, loudness, mode, speechiness, acousticness, instrumentalness, liveness, valence, tempo, duration_ms, popularity and artist popularity. \n"
   ]
  },
  {
   "cell_type": "markdown",
   "metadata": {},
   "source": [
    "### 2.2. Data Analysis\n",
    "The hypothesis our project will test is that songs that are released within the past 90 days will be categorized as popular. For this hypothesis, the independent variable is the song’s days since release and the dependent variable is the popularity index. \n",
    "\n",
    "Our predictive model is based on 14 features, which produces one target variable. The outcome variable we are going to predict is a popularity index, which Spotify calculates as an integer between 1-100, with 0 being the least popular and 100 being the most popular. This number is based on the total number of plays and how recent they were. The features are danceability, energy, key, loudness, mode, speechiness, acousticness, instrumentalness, liveness, valence, tempo, duration, days since release and artist popularity. These are important predictors for popularity, because they are all unique features of the song and the environment around the song (artist/release date). How a song sounds greatly influences how popular it is, and our features break down and quantify this. Furthermore, the artist and release data can help explain some of the variability in the popularity regression. \n",
    "\n",
    "This model is a supervised machine learning problem, and the sub-category of the learning task is regression. Our dataset includes a set of feature variables and one outcome variable. These variables can be used for a supervised machine learning task, because we can map our feature variables to our outcome variable to determine the popularity of a given song. The songs can be classified into a given popularity number based on their features. Therefore, if we provided a brand new song to the tool, it would be able to predict how popular the song would be. \n",
    "\n",
    "We will be using the following ML algorithms: multiple linear regresion, ridge regression, LASSO regression, kNN, amd SVM. We will apply all of these algorithms to our dataset and compare how accurate they are. "
   ]
  },
  {
   "cell_type": "markdown",
   "metadata": {},
   "source": [
    "<a id=\"3\"></a>\n",
    "<hr style=\"height:2px; border:none; color:black; background-color:black;\">"
   ]
  },
  {
   "cell_type": "markdown",
   "metadata": {},
   "source": [
    "## 3. RESULTS"
   ]
  },
  {
   "cell_type": "markdown",
   "metadata": {},
   "source": [
    "### 3.1. Data Wrangling\n",
    "In this section, you should do the following and explain why you are doing what you are doing. For each, you should include your code in a cell, followed by a sample output. For instance, if you are one-hot encoding one of your variables, you should first describe what it is and why you are doing it. You should then include your code in a cell, and the sample output should be available as well.\n",
    "\n",
    "* Perform simple data cleaning (delete extra columns, deal with NA values, etc.)\n",
    "* Perform data wrangling to get your features and target values (e.g., grouping your dataframe by columns, applying functions to format dataframes, etc.)\n",
    "* Preprocess your variables (e.g., scaling/transforming feature variables to normalize them)\n",
    "* Perform feature extraction (dummy variables, new features from existing features, etc.)\n",
    "* Use one feature selection technique to select a subset of your original features\n"
   ]
  },
  {
   "cell_type": "markdown",
   "metadata": {},
   "source": [
    "### 3.2. Data Exploration\n",
    "* Generate appropriate data visualizations for your key variables identified in the previous section\n",
    "* You should have at least three visualizations (and at least two different visualization types)\n",
    "* For each visualization provide an explanation regarding the variables involved and an interpretation of the graph.\n",
    "* If you are using Plotly, insert your visualizations as images as well (upload the graph images to an online source, e.g. github, and embed those into the cells in Jupyter Notebook). This is a requirement.\n"
   ]
  },
  {
   "cell_type": "markdown",
   "metadata": {},
   "source": [
    "### 3.3. Model Construction\n",
    "* Conduct your hypothesis test(s) here.\n",
    "* For your machine learning question(s), use the Training, Validation, and Testing approach through GridSearch\n",
    "* Apply machine learning algorithms (apply at least three different algorithms)\n",
    "* Train your algorithms"
   ]
  },
  {
   "cell_type": "markdown",
   "metadata": {},
   "source": [
    "### 3.4. Model Evaluation\n",
    "* Evaluate the performance of your algorithms on appropriate evaluation metrics, using your **validation set**\n",
    "    * Use at least two different metrics \n",
    "* Evaluate your results from multiple ML models and hypothesis tests\n",
    "    * What was the performance of each algorithm in plain English? Is there any indication of overfitting/underfitting?\n",
    "    * Was there a significant difference? Use the template from lecture slides when reporting the results of your hypothesis testing."
   ]
  },
  {
   "cell_type": "markdown",
   "metadata": {},
   "source": [
    "### 3.5. Model Optimization\n",
    "* Tune your models using appropriate hyperparameters\n",
    "* Explain why you are doing this (e.g., to avoid overfitting, etc.)"
   ]
  },
  {
   "cell_type": "markdown",
   "metadata": {},
   "source": [
    "### 3.6. Model Testing\n",
    "* Test your tuned algorithms using your **testing set**"
   ]
  },
  {
   "cell_type": "markdown",
   "metadata": {},
   "source": [
    "<a id=\"4\"></a>\n",
    "<hr style=\"height:2px; border:none; color:black; background-color:black;\">"
   ]
  },
  {
   "cell_type": "markdown",
   "metadata": {},
   "source": [
    "## 4. DISCUSSION\n",
    "* Interpret your findings from 3.4., 3.5, and 3.6\n",
    "    * Which algorithms did you compare?\n",
    "    * Which algorithm(s) revealed best performance?\n",
    "    * Which algorithm(s) should be used for your predictive model?\n",
    "    * Based on your findings, can we use the features in your dataset to predict the outcome variable you identified using the algorithms you've applied? (It is okay if the answer is no. We're interested in the process, not the performance of the model.)\n",
    "* For your hypotheses, interpret the results. What does it mean to have significant/non-significant differences with regards to your data?\n",
    "\n",
    "\n",
    "* End this section with a conclusion paragraph containing some pointers for future work\n",
    "    * (e.g., get more data/features, perform another analysis, etc.)"
   ]
  },
  {
   "cell_type": "markdown",
   "metadata": {},
   "source": [
    "<a id=\"5\"></a>\n",
    "<hr style=\"height:2px; border:none; color:black; background-color:black;\">"
   ]
  },
  {
   "cell_type": "markdown",
   "metadata": {},
   "source": [
    "### CONTRIBUTIONS\n",
    "* Describe each team member's contributions to the report (who did what in each section)\n",
    "* Remember this is a team effort!\n",
    "* Each member of your team will provide peer evaluation of other team members. Your final grade on the project will be based on those peer evaluations. A survey will be shared after the deadline for this deliverable."
   ]
  },
  {
   "cell_type": "code",
   "execution_count": null,
   "metadata": {},
   "outputs": [],
   "source": []
  }
 ],
 "metadata": {
  "kernelspec": {
   "display_name": "Python 3",
   "language": "python",
   "name": "python3"
  },
  "language_info": {
   "codemirror_mode": {
    "name": "ipython",
    "version": 3
   },
   "file_extension": ".py",
   "mimetype": "text/x-python",
   "name": "python",
   "nbconvert_exporter": "python",
   "pygments_lexer": "ipython3",
   "version": "3.8.3"
  }
 },
 "nbformat": 4,
 "nbformat_minor": 2
}
